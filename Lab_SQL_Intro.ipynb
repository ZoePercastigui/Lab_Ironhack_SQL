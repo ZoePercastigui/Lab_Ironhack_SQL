{
  "nbformat": 4,
  "nbformat_minor": 0,
  "metadata": {
    "colab": {
      "provenance": []
    },
    "kernelspec": {
      "name": "python3",
      "display_name": "Python 3"
    },
    "language_info": {
      "name": "python"
    }
  },
  "cells": [
    {
      "cell_type": "markdown",
      "source": [
        "![logo_ironhack_blue 7](https://user-images.githubusercontent.com/23629340/40541063-a07a0a8a-601a-11e8-91b5-2f13e4e6b441.png)\n",
        "\n",
        "# Lab | SQL Intro\n",
        "\n",
        "In this lab, you will be using the [Sakila](https://dev.mysql.com/doc/sakila/en/) database of movie rentals. You can follow the steps listed here to get the data locally: [Sakila sample database - installation](https://dev.mysql.com/doc/sakila/en/sakila-installation.html). You can work with two sql query files - `sakila-schema.sql` (creates the schema) + `sakila-data.sql` which inserts the data.\n",
        "\n",
        "The ERD is pictured below - not all tables are shown, but many of the key fields you will be using are visible:\n",
        "\n",
        "<br>\n",
        "\n",
        "![DB schema](https://education-team-2020.s3-eu-west-1.amazonaws.com/data-analytics/database-sakila-schema.png)\n",
        "\n",
        "<br><br>\n",
        "\n",
        "### Instructions\n",
        "\n",
        "1. Use sakila database.\n",
        "2. Get all the data from tables `actor`, `film` and `customer`.\n",
        "3. Get film titles.\n",
        "4. Get unique list of film languages under the alias `language`. Note that we are not asking you to obtain the language per each film, but this is a good time to think about how you might get that information in the future.\n",
        "5.\n",
        "  - 5.1 Find out how many stores does the company have?\n",
        "  - 5.2 Find out how many employees staff does the company have? \n",
        "  - 5.3 Return a list of employee first names only?\n",
        "  ---"
      ],
      "metadata": {
        "id": "eNbOG8Y_onTR"
      }
    },
    {
      "cell_type": "markdown",
      "source": [
        "## My code SQL"
      ],
      "metadata": {
        "id": "YREyh7tKp4ec"
      }
    },
    {
      "cell_type": "markdown",
      "source": [
        "\n",
        "1. Use sakila database.\n",
        "```\n",
        "SHOW DATABASES;\n",
        "USE sakila;\n",
        "``` \n",
        "2. Get all the data from tables actor, film and customer.\n",
        "```\n",
        "SHOW TABLES;\n",
        "SELECT * FROM actor;\n",
        "SELECT * FROM film;\n",
        "SELECT * FROM customer;\n",
        "```\n",
        "3. Get film titles.\n",
        "```\n",
        "SELECT title FROM film;\n",
        "```\n",
        "4. Get unique list of film languages under the alias language.\n",
        "```\n",
        "SELECT name AS language\n",
        "FROM language;\n",
        "SELECT distinct name AS language\n",
        "FROM language;\n",
        "```\n",
        "5. 5.1 Find out how many stores does the company have?\n",
        "\n",
        "   5.2 Find out how many employees staff does the company have?\n",
        "\n",
        "   5.3 Return a list of employee first names only?\n",
        "```\n",
        "SELECT COUNT(*) store;\n",
        "SELECT COUNT(*) staff;\n",
        "SELECT first_name \n",
        "FROM staff;\n",
        "```\n"
      ],
      "metadata": {
        "id": "kF_3P82SqURi"
      }
    }
  ]
}